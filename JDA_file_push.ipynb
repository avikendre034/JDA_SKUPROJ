{
 "cells": [
  {
   "cell_type": "markdown",
   "id": "025bee8c",
   "metadata": {},
   "source": [
    "### JDA_SKU_file"
   ]
  },
  {
   "cell_type": "code",
   "execution_count": 6,
   "id": "da81b206",
   "metadata": {},
   "outputs": [],
   "source": [
    "from pathlib import Path\n",
    "import os\n",
    "import six\n",
    "import textwrap\n",
    "import pyodbc\n",
    "import seaborn as sns\n",
    "import pandas as pd                                                             \n",
    "import numpy as np                                                              \n",
    "import warnings                                                                   \n",
    "warnings.filterwarnings(\"ignore\") "
   ]
  },
  {
   "cell_type": "code",
   "execution_count": 7,
   "id": "fd624ac6",
   "metadata": {},
   "outputs": [
    {
     "data": {
      "text/plain": [
       "['SQL Server',\n",
       " 'SQL Server Native Client 11.0',\n",
       " 'ODBC Driver 17 for SQL Server',\n",
       " 'Microsoft Access Driver (*.mdb, *.accdb)',\n",
       " 'Microsoft Excel Driver (*.xls, *.xlsx, *.xlsm, *.xlsb)',\n",
       " 'Microsoft Access Text Driver (*.txt, *.csv)']"
      ]
     },
     "execution_count": 7,
     "metadata": {},
     "output_type": "execute_result"
    }
   ],
   "source": [
    "pyodbc.drivers()"
   ]
  },
  {
   "cell_type": "code",
   "execution_count": 15,
   "id": "c0b12a47",
   "metadata": {},
   "outputs": [],
   "source": [
    "\n",
    "connection_str=\"\"\"DRIVER={ODBC Driver 17 for SQL Server};\n",
    "                  SERVER=gsc-scpat-sql-001-d.database.windows.net;\n",
    "                  Database=SC-PAT-DB;\n",
    "                  UID=SCPAT;\n",
    "                  PWD=Ecolab@1234;\"\"\""
   ]
  },
  {
   "cell_type": "code",
   "execution_count": 16,
   "id": "675668a6",
   "metadata": {},
   "outputs": [
    {
     "ename": "OperationalError",
     "evalue": "('08001', '[08001] [Microsoft][ODBC Driver 17 for SQL Server]TCP Provider: Timeout error [258].  (258) (SQLDriverConnect); [08001] [Microsoft][ODBC Driver 17 for SQL Server]Login timeout expired (0); [08001] [Microsoft][ODBC Driver 17 for SQL Server]Unable to complete login process due to delay in prelogin response (258)')",
     "output_type": "error",
     "traceback": [
      "\u001b[1;31m---------------------------------------------------------------------------\u001b[0m",
      "\u001b[1;31mOperationalError\u001b[0m                          Traceback (most recent call last)",
      "\u001b[1;32m~\\AppData\\Local\\Temp/ipykernel_2796/3139602575.py\u001b[0m in \u001b[0;36m<module>\u001b[1;34m\u001b[0m\n\u001b[1;32m----> 1\u001b[1;33m \u001b[0mconn\u001b[0m \u001b[1;33m=\u001b[0m \u001b[0mpyodbc\u001b[0m\u001b[1;33m.\u001b[0m\u001b[0mconnect\u001b[0m\u001b[1;33m(\u001b[0m\u001b[0mconnection_str\u001b[0m\u001b[1;33m)\u001b[0m\u001b[1;33m\u001b[0m\u001b[1;33m\u001b[0m\u001b[0m\n\u001b[0m",
      "\u001b[1;31mOperationalError\u001b[0m: ('08001', '[08001] [Microsoft][ODBC Driver 17 for SQL Server]TCP Provider: Timeout error [258].  (258) (SQLDriverConnect); [08001] [Microsoft][ODBC Driver 17 for SQL Server]Login timeout expired (0); [08001] [Microsoft][ODBC Driver 17 for SQL Server]Unable to complete login process due to delay in prelogin response (258)')"
     ]
    }
   ],
   "source": [
    "conn = pyodbc.connect(connection_str)"
   ]
  },
  {
   "cell_type": "code",
   "execution_count": null,
   "id": "3ba14477",
   "metadata": {},
   "outputs": [],
   "source": [
    "conn"
   ]
  },
  {
   "cell_type": "code",
   "execution_count": null,
   "id": "9735b055",
   "metadata": {},
   "outputs": [],
   "source": [
    "JDA_df = pd.read_sql(\"select * from [Plan_Data_Snap].[JDA_SKUPROJ]\",con=conn)"
   ]
  },
  {
   "cell_type": "code",
   "execution_count": null,
   "id": "03f0d667",
   "metadata": {},
   "outputs": [],
   "source": [
    "JDA_df.head()"
   ]
  },
  {
   "cell_type": "code",
   "execution_count": null,
   "id": "8983bb3a",
   "metadata": {},
   "outputs": [],
   "source": [
    "JDA_df.to_excel(Path.cwd() / \"JDA_Plan_data.xlsx\", index=False)\n",
    "jda_sourc_path =  Path.cwd() / \"JDA_Plan_data.xlsx\"\n",
    "jda_destination = \"C:/Users/kendrav/OneDrive - Ecolab/Projects - Pune/Plan Capture Database/Data Repository/\"\n",
    "dest_path = shutil.copy(jda_sourc_path,jda_destination)\n",
    "print(\"File Copied to sharepoint path :\",dest_path)"
   ]
  },
  {
   "cell_type": "code",
   "execution_count": null,
   "id": "745400c5",
   "metadata": {},
   "outputs": [],
   "source": [
    "ok"
   ]
  },
  {
   "cell_type": "code",
   "execution_count": null,
   "id": "01c1e5d1",
   "metadata": {},
   "outputs": [],
   "source": []
  }
 ],
 "metadata": {
  "kernelspec": {
   "display_name": "Python 3 (ipykernel)",
   "language": "python",
   "name": "python3"
  },
  "language_info": {
   "codemirror_mode": {
    "name": "ipython",
    "version": 3
   },
   "file_extension": ".py",
   "mimetype": "text/x-python",
   "name": "python",
   "nbconvert_exporter": "python",
   "pygments_lexer": "ipython3",
   "version": "3.9.7"
  }
 },
 "nbformat": 4,
 "nbformat_minor": 5
}
